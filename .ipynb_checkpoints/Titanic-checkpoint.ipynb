{
 "cells": [
  {
   "cell_type": "code",
   "execution_count": 3,
   "metadata": {},
   "outputs": [],
   "source": [
    "import pandas\n",
    "import numpy as np\n",
    "from sklearn.tree import DecisionTreeClassifier\n",
    "data = pandas.read_csv('C:\\\\RLib\\\\titanic.csv', index_col='PassengerId')\n",
    "data_sel = data.loc[:, data.columns.isin(['Survived', 'Pclass', 'Fare', 'Age', 'Sex'])]\n",
    "data_sel = data_sel.dropna()\n",
    "data_sel['Sex'] = np.where(data_sel['Sex'] == 'male', 0, 1)\n",
    "Survived = data_sel.loc[:, data_sel.columns.isin(['Survived'])]\n",
    "X = data_sel.loc[:, data_sel.columns.isin(['Pclass', 'Fare', 'Age', 'Sex'])]\n",
    "\n",
    "\n",
    "from sklearn.model_selection import train_test_split\n",
    "x_train, x_validation, y_train, y_validation = train_test_split(X, Survived, test_size=.33, random_state=1)\n",
    "\n",
    "\n",
    "tree = DecisionTreeClassifier(random_state=241)\n",
    "\n",
    "tree = tree.fit(x_train, y_train)"
   ]
  },
  {
   "cell_type": "code",
   "execution_count": 4,
   "metadata": {},
   "outputs": [
    {
     "name": "stdout",
     "output_type": "stream",
     "text": [
      "Точность на валидации: 0.7754237288135594\n"
     ]
    }
   ],
   "source": [
    "from sklearn.metrics import accuracy_score\n",
    "\n",
    "validation_acc1 = accuracy_score(y_validation, tree.predict(x_validation))\n",
    "\n",
    "print('Точность на валидации:', validation_acc1)"
   ]
  }
 ],
 "metadata": {
  "kernelspec": {
   "display_name": "Python 3 (ipykernel)",
   "language": "python",
   "name": "python3"
  },
  "language_info": {
   "codemirror_mode": {
    "name": "ipython",
    "version": 3
   },
   "file_extension": ".py",
   "mimetype": "text/x-python",
   "name": "python",
   "nbconvert_exporter": "python",
   "pygments_lexer": "ipython3",
   "version": "3.11.0"
  }
 },
 "nbformat": 4,
 "nbformat_minor": 2
}
